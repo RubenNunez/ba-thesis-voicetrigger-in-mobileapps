{
 "cells": [
  {
   "cell_type": "markdown",
   "metadata": {},
   "source": [
    "# A Simple Forward Pass of a Recurrent Neural Network\n",
    "\n",
    "For a simple sequence of inputs X"
   ]
  },
  {
   "cell_type": "code",
   "execution_count": 1,
   "metadata": {},
   "outputs": [],
   "source": [
    "import numpy as np\n",
    "import pandas as pd"
   ]
  },
  {
   "cell_type": "code",
   "execution_count": 2,
   "metadata": {},
   "outputs": [
    {
     "data": {
      "text/html": [
       "<div>\n",
       "<style scoped>\n",
       "    .dataframe tbody tr th:only-of-type {\n",
       "        vertical-align: middle;\n",
       "    }\n",
       "\n",
       "    .dataframe tbody tr th {\n",
       "        vertical-align: top;\n",
       "    }\n",
       "\n",
       "    .dataframe thead th {\n",
       "        text-align: right;\n",
       "    }\n",
       "</style>\n",
       "<table border=\"1\" class=\"dataframe\">\n",
       "  <thead>\n",
       "    <tr style=\"text-align: right;\">\n",
       "      <th></th>\n",
       "      <th>0</th>\n",
       "      <th>1</th>\n",
       "      <th>2</th>\n",
       "      <th>3</th>\n",
       "      <th>4</th>\n",
       "      <th>5</th>\n",
       "      <th>6</th>\n",
       "      <th>7</th>\n",
       "      <th>8</th>\n",
       "      <th>9</th>\n",
       "    </tr>\n",
       "  </thead>\n",
       "  <tbody>\n",
       "    <tr>\n",
       "      <th>0</th>\n",
       "      <td>1</td>\n",
       "      <td>2</td>\n",
       "      <td>4</td>\n",
       "      <td>8</td>\n",
       "      <td>16</td>\n",
       "      <td>32</td>\n",
       "      <td>64</td>\n",
       "      <td>128</td>\n",
       "      <td>256</td>\n",
       "      <td>512</td>\n",
       "    </tr>\n",
       "  </tbody>\n",
       "</table>\n",
       "</div>"
      ],
      "text/plain": [
       "   0  1  2  3   4   5   6    7    8    9\n",
       "0  1  2  4  8  16  32  64  128  256  512"
      ]
     },
     "execution_count": 2,
     "metadata": {},
     "output_type": "execute_result"
    }
   ],
   "source": [
    "\n",
    "# A simple Sequence of 10 numbers (powers of 2)\n",
    "X_sequence = pd.Series([2**i for i in range(10)])\n",
    "\n",
    "pd.DataFrame(X_sequence).transpose()"
   ]
  },
  {
   "cell_type": "code",
   "execution_count": 20,
   "metadata": {},
   "outputs": [
    {
     "data": {
      "text/plain": [
       "array([ 0.1169376 ,  0.18893886,  0.17406786,  0.1160411 , -0.00661795,\n",
       "       -0.11824488, -0.09770228, -0.04734304, -0.04005075, -0.0399927 ])"
      ]
     },
     "execution_count": 20,
     "metadata": {},
     "output_type": "execute_result"
    }
   ],
   "source": [
    "np.random.seed(42)\n",
    "\n",
    "X = X_sequence.to_numpy() # Input\n",
    "\n",
    "i_W = np.random.rand(1, 5) / 5 - 0.1 # Input weights\n",
    "h_W = np.random.rand(5, 5) / 5 - 0.1 # Hidden weights\n",
    "h_B = np.random.rand(1, 5) / 5 - 0.1 # Bias terms\n",
    "\n",
    "o_W = np.random.rand(5, 1) # Output\n",
    "o_B = np.random.rand(1, 1) # Bias\n",
    "\n",
    "H = np.zeros((len(X), 5)) # Store hidden states\n",
    "Y = np.zeros(len(X)) # Store outputs\n",
    "\n",
    "prev = None\n",
    "\n",
    "for i in range(len(X)):\n",
    "    x = X[i].reshape(1,1)\n",
    "\n",
    "    xi = x @ i_W\n",
    "\n",
    "    if prev is None:\n",
    "        xh = xi\n",
    "    else:\n",
    "        xh = xi + prev @ h_W + h_B\n",
    "    \n",
    "    xh = np.tanh(xh)\n",
    "    prev = xh\n",
    "    H[i,] = xh\n",
    "\n",
    "    y = xh @ o_W + o_B\n",
    "    Y[i] = y[0, 0]\n",
    "\n",
    "Y  "
   ]
  },
  {
   "cell_type": "code",
   "execution_count": null,
   "metadata": {},
   "outputs": [],
   "source": []
  },
  {
   "cell_type": "code",
   "execution_count": null,
   "metadata": {},
   "outputs": [],
   "source": []
  }
 ],
 "metadata": {
  "kernelspec": {
   "display_name": "ba-environment",
   "language": "python",
   "name": "python3"
  },
  "language_info": {
   "codemirror_mode": {
    "name": "ipython",
    "version": 3
   },
   "file_extension": ".py",
   "mimetype": "text/x-python",
   "name": "python",
   "nbconvert_exporter": "python",
   "pygments_lexer": "ipython3",
   "version": "3.9.18"
  }
 },
 "nbformat": 4,
 "nbformat_minor": 2
}
