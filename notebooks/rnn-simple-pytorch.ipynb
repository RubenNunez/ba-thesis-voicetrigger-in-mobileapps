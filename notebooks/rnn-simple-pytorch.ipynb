{
 "cells": [
  {
   "cell_type": "markdown",
   "metadata": {},
   "source": [
    "# Small RNN that predicts powers of 2"
   ]
  },
  {
   "cell_type": "code",
   "execution_count": 2,
   "metadata": {},
   "outputs": [],
   "source": [
    "import torch\n",
    "import torch.nn as nn\n",
    "import torch.optim as optim\n",
    "from tqdm import tqdm\n",
    "\n",
    "import numpy as np\n",
    "import pandas as pd\n",
    "\n",
    "# RNN Modell LSTM (Long Short Term Memory) Variantion von RNN\n",
    "class SimpleRNN(nn.Module):\n",
    "    def __init__(self, input_size, hidden_size, output_size):\n",
    "        super(SimpleRNN, self).__init__()\n",
    "        self.rnn = nn.LSTM(input_size, hidden_size, batch_first=True)\n",
    "        self.fc = nn.Linear(hidden_size, output_size)\n",
    "        \n",
    "    def forward(self, x):\n",
    "        out, _ = self.rnn(x)\n",
    "        out = self.fc(out[:, -1, :])\n",
    "        return out\n"
   ]
  },
  {
   "cell_type": "code",
   "execution_count": 3,
   "metadata": {},
   "outputs": [
    {
     "data": {
      "text/html": [
       "<div>\n",
       "<style scoped>\n",
       "    .dataframe tbody tr th:only-of-type {\n",
       "        vertical-align: middle;\n",
       "    }\n",
       "\n",
       "    .dataframe tbody tr th {\n",
       "        vertical-align: top;\n",
       "    }\n",
       "\n",
       "    .dataframe thead th {\n",
       "        text-align: right;\n",
       "    }\n",
       "</style>\n",
       "<table border=\"1\" class=\"dataframe\">\n",
       "  <thead>\n",
       "    <tr style=\"text-align: right;\">\n",
       "      <th></th>\n",
       "      <th>0</th>\n",
       "      <th>1</th>\n",
       "      <th>2</th>\n",
       "      <th>3</th>\n",
       "      <th>4</th>\n",
       "      <th>5</th>\n",
       "      <th>6</th>\n",
       "      <th>7</th>\n",
       "      <th>8</th>\n",
       "      <th>9</th>\n",
       "    </tr>\n",
       "  </thead>\n",
       "  <tbody>\n",
       "    <tr>\n",
       "      <th>0</th>\n",
       "      <td>[2, 4, 8]</td>\n",
       "      <td>[4, 8, 16]</td>\n",
       "      <td>[8, 16, 32]</td>\n",
       "      <td>[16, 32, 64]</td>\n",
       "      <td>[32, 64, 128]</td>\n",
       "      <td>[64, 128, 256]</td>\n",
       "      <td>[128, 256, 512]</td>\n",
       "      <td>[256, 512, 1024]</td>\n",
       "      <td>[512, 1024, 2048]</td>\n",
       "      <td>[1024, 2048, 4096]</td>\n",
       "    </tr>\n",
       "    <tr>\n",
       "      <th>1</th>\n",
       "      <td>16</td>\n",
       "      <td>32</td>\n",
       "      <td>64</td>\n",
       "      <td>128</td>\n",
       "      <td>256</td>\n",
       "      <td>512</td>\n",
       "      <td>1024</td>\n",
       "      <td>2048</td>\n",
       "      <td>4096</td>\n",
       "      <td>8192</td>\n",
       "    </tr>\n",
       "  </tbody>\n",
       "</table>\n",
       "</div>"
      ],
      "text/plain": [
       "           0           1            2             3              4  \\\n",
       "0  [2, 4, 8]  [4, 8, 16]  [8, 16, 32]  [16, 32, 64]  [32, 64, 128]   \n",
       "1         16          32           64           128            256   \n",
       "\n",
       "                5                6                 7                  8  \\\n",
       "0  [64, 128, 256]  [128, 256, 512]  [256, 512, 1024]  [512, 1024, 2048]   \n",
       "1             512             1024              2048               4096   \n",
       "\n",
       "                    9  \n",
       "0  [1024, 2048, 4096]  \n",
       "1                8192  "
      ]
     },
     "execution_count": 3,
     "metadata": {},
     "output_type": "execute_result"
    }
   ],
   "source": [
    "powers_of_two = [2**i for i in range(1, 15)]\n",
    "\n",
    "data = []\n",
    "# Erstellt Sequenzen mit Längen von 3, 4 und 5\n",
    "for window_size in [3, 4, 5]:\n",
    "    for i in range(len(powers_of_two) - window_size):\n",
    "        seq = powers_of_two[i:i+window_size]\n",
    "        target = powers_of_two[i+window_size]\n",
    "        data.append((seq, target))\n",
    "\n",
    "# Anwendung des Logarithmus\n",
    "data_log = [(list(map(np.log, seq)), np.log(target)) for seq, target in data]\n",
    "data_log = data_log * 3\n",
    "\n",
    "pd.DataFrame(data).head(10).transpose()"
   ]
  },
  {
   "cell_type": "code",
   "execution_count": 4,
   "metadata": {},
   "outputs": [
    {
     "name": "stderr",
     "output_type": "stream",
     "text": [
      "  0%|          | 0/1000 [00:00<?, ?it/s]/Users/ruben/anaconda3/envs/ba-environment/lib/python3.11/site-packages/torch/nn/modules/loss.py:535: UserWarning: Using a target size (torch.Size([1])) that is different to the input size (torch.Size([1, 1])). This will likely lead to incorrect results due to broadcasting. Please ensure they have the same size.\n",
      "  return F.mse_loss(input, target, reduction=self.reduction)\n",
      "  0%|          | 3/1000 [00:00<01:09, 14.42it/s]"
     ]
    },
    {
     "name": "stdout",
     "output_type": "stream",
     "text": [
      "Epoch 0/1000, Loss: 53.36703467589687\n"
     ]
    },
    {
     "name": "stderr",
     "output_type": "stream",
     "text": [
      "100%|██████████| 1000/1000 [00:54<00:00, 18.38it/s]\n"
     ]
    }
   ],
   "source": [
    "model = SimpleRNN(input_size=1, hidden_size=64, output_size=1)\n",
    "criterion = nn.MSELoss()\n",
    "optimizer = optim.Adam(model.parameters(), lr=0.001)\n",
    "\n",
    "# Train the model\n",
    "epochs = 1000\n",
    "for epoch in tqdm(range(epochs)):\n",
    "    total_loss = 0\n",
    "    for sequence, target in data_log:\n",
    "        sequence = torch.FloatTensor(sequence).view(1, -1, 1)\n",
    "        target = torch.FloatTensor([target])\n",
    "        optimizer.zero_grad()\n",
    "        output = model(sequence)\n",
    "        loss = criterion(output, target)\n",
    "        loss.backward()\n",
    "        optimizer.step()\n",
    "        total_loss += loss.item()\n",
    "    if epoch % 1000 == 0:\n",
    "        print(f'Epoch {epoch}/{epochs}, Loss: {total_loss/len(data)}')\n"
   ]
  },
  {
   "cell_type": "code",
   "execution_count": 6,
   "metadata": {},
   "outputs": [
    {
     "name": "stdout",
     "output_type": "stream",
     "text": [
      "Predicted next power of 2 for [2, 4, 8]: 16.09371835180147\n",
      "Predicted next power of 2 for [2, 4, 8, 16]: 31.483109891721593\n",
      "Predicted next power of 2 for [2]: 7.33693101343991\n",
      "Predicted next power of 2 for [64, 128, 256, 512]: 1003.9508464856866\n"
     ]
    }
   ],
   "source": [
    "def predict_next_power_of_2(sequence, model):\n",
    "    sequence_log = list(map(np.log, sequence))\n",
    "    tensor_input = torch.FloatTensor(sequence_log).view(1, -1, 1)\n",
    "    predicted_log = model(tensor_input).item()\n",
    "    return np.exp(predicted_log)\n",
    "\n",
    "input_sequence_1 = [2, 4, 8]\n",
    "input_sequence_2 = [2, 4, 8, 16]\n",
    "input_sequence_3 = [2]\n",
    "input_sequence_4 = [64, 128, 256, 512 ]\n",
    "\n",
    "predicted_value_1 = predict_next_power_of_2(input_sequence_1, model)\n",
    "predicted_value_2 = predict_next_power_of_2(input_sequence_2, model)\n",
    "predicted_value_3 = predict_next_power_of_2(input_sequence_3, model)\n",
    "predicted_value_4 = predict_next_power_of_2(input_sequence_4, model)\n",
    "\n",
    "\n",
    "print(f'Predicted next power of 2 for {input_sequence_1}: {predicted_value_1}')\n",
    "print(f'Predicted next power of 2 for {input_sequence_2}: {predicted_value_2}')\n",
    "print(f'Predicted next power of 2 for {input_sequence_3}: {predicted_value_3}')\n",
    "print(f'Predicted next power of 2 for {input_sequence_4}: {predicted_value_4}')"
   ]
  },
  {
   "cell_type": "code",
   "execution_count": null,
   "metadata": {},
   "outputs": [],
   "source": []
  }
 ],
 "metadata": {
  "kernelspec": {
   "display_name": "ba-environment",
   "language": "python",
   "name": "python3"
  },
  "language_info": {
   "codemirror_mode": {
    "name": "ipython",
    "version": 3
   },
   "file_extension": ".py",
   "mimetype": "text/x-python",
   "name": "python",
   "nbconvert_exporter": "python",
   "pygments_lexer": "ipython3",
   "version": "3.11.6"
  }
 },
 "nbformat": 4,
 "nbformat_minor": 2
}
