{
 "cells": [
  {
   "cell_type": "code",
   "execution_count": 4,
   "metadata": {},
   "outputs": [
    {
     "name": "stdout",
     "output_type": "stream",
     "text": [
      "[[53.  10.  62.5]\n",
      " [56.5 28.5 61.5]\n",
      " [61.5 15.5 40.5]]\n"
     ]
    }
   ],
   "source": [
    "import numpy as np\n",
    "import matplotlib.pyplot as plt\n",
    "from scipy.signal import convolve2d\n",
    "\n",
    "F = np.array([\n",
    "    [5, 3, 1, 0, 9],\n",
    "    [12, 4, 1, 0, 2],\n",
    "    [5, 3, 1, 0, 2],\n",
    "    [5, 21, 1, 0, 1],\n",
    "    [0, 0, 1, 0, 9],\n",
    "])\n",
    "W = np.array([\n",
    "    [1, 0, 1],\n",
    "    [29, 1, 0.5],\n",
    "    [0, 1, 1],\n",
    "])\n",
    "\n",
    "# Convolution\n",
    "C = convolve2d(F, W, mode='valid')\n",
    "print(C)\n",
    "\n",
    "# [[53.  10.  62.5]\n",
    "#  [56.5 28.5 61.5]\n",
    "#  [61.5 15.5 40.5]]"
   ]
  },
  {
   "cell_type": "code",
   "execution_count": null,
   "metadata": {},
   "outputs": [],
   "source": []
  }
 ],
 "metadata": {
  "kernelspec": {
   "display_name": "ba-environment",
   "language": "python",
   "name": "python3"
  },
  "language_info": {
   "codemirror_mode": {
    "name": "ipython",
    "version": 3
   },
   "file_extension": ".py",
   "mimetype": "text/x-python",
   "name": "python",
   "nbconvert_exporter": "python",
   "pygments_lexer": "ipython3",
   "version": "3.11.6"
  }
 },
 "nbformat": 4,
 "nbformat_minor": 2
}
